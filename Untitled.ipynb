{
 "cells": [
  {
   "cell_type": "code",
   "execution_count": 14,
   "metadata": {},
   "outputs": [],
   "source": [
    "import pandas as pd\n",
    "import numpy as np\n",
    "import matplotlib.pyplot as plt\n",
    "from sklearn.linear_model import LinearRegression\n",
    "from sklearn.model_selection import train_test_split\n"
   ]
  },
  {
   "cell_type": "code",
   "execution_count": 2,
   "metadata": {},
   "outputs": [
    {
     "name": "stdout",
     "output_type": "stream",
     "text": [
      "Data Shape: (50, 5)\n",
      "   R&D Spend  Administration  Marketing Spend       State     Profit\n",
      "0  165349.20       136897.80        471784.10    New York  192261.83\n",
      "1  162597.70       151377.59        443898.53  California  191792.06\n",
      "2  153441.51       101145.55        407934.54     Florida  191050.39\n",
      "3  144372.41       118671.85        383199.62    New York  182901.99\n",
      "4  142107.34        91391.77        366168.42     Florida  166187.94\n"
     ]
    }
   ],
   "source": [
    "startup = pd.read_csv(\"./startup_logistic_egression/50_Startups.csv\")\n",
    "print(f\"Data Shape: {startup.shape}\")\n",
    "print(startup.head())"
   ]
  },
  {
   "cell_type": "code",
   "execution_count": 4,
   "metadata": {},
   "outputs": [
    {
     "name": "stdout",
     "output_type": "stream",
     "text": [
      "Index(['R&D Spend', 'Administration', 'Marketing Spend', 'State', 'Profit'], dtype='object')\n"
     ]
    }
   ],
   "source": [
    "startup = pd.read_csv(\"./startup_logistic_egression/50_Startups.csv\")\n",
    "print(startup.columns)"
   ]
  },
  {
   "cell_type": "code",
   "execution_count": 5,
   "metadata": {},
   "outputs": [
    {
     "data": {
      "text/plain": [
       "array([471784.1 , 443898.53, 407934.54, 383199.62, 366168.42, 362861.36,\n",
       "       127716.82, 323876.68, 311613.29, 304981.62, 229160.95, 249744.55,\n",
       "       249839.44, 252664.93, 256512.92, 261776.23, 264346.06, 282574.31,\n",
       "       294919.57,      0.  , 298664.47, 299737.29, 303319.26, 304768.73,\n",
       "       140574.81, 137962.62, 134050.07, 353183.81, 118148.2 , 107138.38,\n",
       "        91131.24,  88218.23,  46085.25, 214634.81, 210797.67, 205517.64,\n",
       "       201126.82, 197029.42, 185265.1 , 174999.3 , 172795.67, 164470.71,\n",
       "       148001.11,  35534.17,  28334.72,   1903.93, 297114.46,      0.  ,\n",
       "            0.  ,  45173.06])"
      ]
     },
     "execution_count": 5,
     "metadata": {},
     "output_type": "execute_result"
    }
   ],
   "source": [
    "# startup = pd.read_csv(\"./startup_logistic_egression/50_Startups.csv\")\n",
    "# X = startup['Marketing Spend'].values\n",
    "# y = startup['Profit'].values\n",
    "# X"
   ]
  },
  {
   "cell_type": "code",
   "execution_count": 19,
   "metadata": {},
   "outputs": [],
   "source": [
    "X=X.reshape(-1, 1)"
   ]
  },
  {
   "cell_type": "code",
   "execution_count": 15,
   "metadata": {},
   "outputs": [
    {
     "name": "stdout",
     "output_type": "stream",
     "text": [
      "X_train shape (40, 1)\n",
      "y_train shape (40,)\n",
      "X_test shap (10, 1)\n",
      "y_test shape (10,)\n",
      "[156122.51  90708.19  89949.14 103282.38  69758.98  14681.4  156991.12\n",
      "  96778.92 118474.03  71498.49]\n"
     ]
    }
   ],
   "source": [
    "# x_train, x_test, y_train, y_test = train_test_split(X,y,train_size=0.8,test_size=0.2,random_state=100)\n",
    "# print(f\"X_train shape {x_train.shape}\")\n",
    "# print(f\"y_train shape {y_train.shape}\")\n",
    "# print(f\"X_test shap {x_test.shape}\")\n",
    "# print(f\"y_test shape {y_test.shape}\")\n",
    "# print(y_test)"
   ]
  },
  {
   "cell_type": "code",
   "execution_count": 16,
   "metadata": {},
   "outputs": [
    {
     "data": {
      "image/png": "[encoded data removed]",
      "text/plain": [
       "<Figure size 432x288 with 1 Axes>"
      ]
     },
     "metadata": {
      "needs_background": "light"
     },
     "output_type": "display_data"
    }
   ],
   "source": [
    "# %matplotlib inline\n",
    "# plt.scatter(x_train,y_train,color='blue')\n",
    "# plt.xlabel('Marketing Dollars Spent')\n",
    "# plt.ylabel('Profits')\n",
    "# plt.title('Startup Spending')\n",
    "# plt.show()"
   ]
  },
  {
   "cell_type": "code",
   "execution_count": 17,
   "metadata": {},
   "outputs": [
    {
     "name": "stdout",
     "output_type": "stream",
     "text": [
      "Train accuracy 58.08 %\n",
      "Test accuracy 38.46 %\n"
     ]
    }
   ],
   "source": [
    "# lm = LinearRegression()\n",
    "# lm.fit(x_train,y_train)\n",
    "# y_predict = lm.predict(x_test)\n",
    "# print(f\"Train accuracy {round(lm.score(x_train,y_train)*100,2)} %\")\n",
    "# print(f\"Test accuracy {round(lm.score(x_test,y_test)*100,2)} %\")"
   ]
  },
  {
   "cell_type": "code",
   "execution_count": 18,
   "metadata": {},
   "outputs": [
    {
     "data": {
      "text/plain": [
       "<function matplotlib.pyplot.plot(*args, scalex=True, scaley=True, data=None, **kwargs)>"
      ]
     },
     "execution_count": 18,
     "metadata": {},
     "output_type": "execute_result"
    },
    {
     "data": {
      "image/png": "[encoded data removed]",
      "text/plain": [
       "<Figure size 432x288 with 1 Axes>"
      ]
     },
     "metadata": {
      "needs_background": "light"
     },
     "output_type": "display_data"
    }
   ],
   "source": [
    "# plt.scatter(x_train,y_train,color='red')\n",
    "# plt.plot(x_test,y_predict)\n",
    "# plt.xlabel('Marketing Dollars Spent')\n",
    "# plt.ylabel('Profits')\n",
    "# plt.title('Trained Model Plot')\n",
    "# plt.plot"
   ]
  },
  {
   "cell_type": "code",
   "execution_count": 88,
   "metadata": {},
   "outputs": [],
   "source": [
    "startup = pd.read_csv(\"./startup_logistic_egression/50_Startups.csv\")\n",
    "X_rd = startup['R&D Spend'].values\n",
    "y_rd = startup['Profit'].values"
   ]
  },
  {
   "cell_type": "code",
   "execution_count": 89,
   "metadata": {},
   "outputs": [
    {
     "data": {
      "text/plain": [
       "array([[471784.1 ],\n",
       "       [443898.53],\n",
       "       [407934.54],\n",
       "       [383199.62],\n",
       "       [366168.42],\n",
       "       [362861.36],\n",
       "       [127716.82],\n",
       "       [323876.68],\n",
       "       [311613.29],\n",
       "       [304981.62],\n",
       "       [229160.95],\n",
       "       [249744.55],\n",
       "       [249839.44],\n",
       "       [252664.93],\n",
       "       [256512.92],\n",
       "       [261776.23],\n",
       "       [264346.06],\n",
       "       [282574.31],\n",
       "       [294919.57],\n",
       "       [     0.  ],\n",
       "       [298664.47],\n",
       "       [299737.29],\n",
       "       [303319.26],\n",
       "       [304768.73],\n",
       "       [140574.81],\n",
       "       [137962.62],\n",
       "       [134050.07],\n",
       "       [353183.81],\n",
       "       [118148.2 ],\n",
       "       [107138.38],\n",
       "       [ 91131.24],\n",
       "       [ 88218.23],\n",
       "       [ 46085.25],\n",
       "       [214634.81],\n",
       "       [210797.67],\n",
       "       [205517.64],\n",
       "       [201126.82],\n",
       "       [197029.42],\n",
       "       [185265.1 ],\n",
       "       [174999.3 ],\n",
       "       [172795.67],\n",
       "       [164470.71],\n",
       "       [148001.11],\n",
       "       [ 35534.17],\n",
       "       [ 28334.72],\n",
       "       [  1903.93],\n",
       "       [297114.46],\n",
       "       [     0.  ],\n",
       "       [     0.  ],\n",
       "       [ 45173.06]])"
      ]
     },
     "execution_count": 89,
     "metadata": {},
     "output_type": "execute_result"
    }
   ],
   "source": [
    "X_rd=X.reshape(-1, 1)\n",
    "X_rd"
   ]
  },
  {
   "cell_type": "code",
   "execution_count": 90,
   "metadata": {},
   "outputs": [
    {
     "name": "stdout",
     "output_type": "stream",
     "text": [
      "X_rd_train shape (40, 1)\n",
      "y_rd_train shape (40,)\n",
      "X_rd_test shap (10, 1)\n",
      "y_rd_test shape (10,)\n",
      "[156122.51  90708.19  89949.14 103282.38  69758.98  14681.4  156991.12\n",
      "  96778.92 118474.03  71498.49]\n"
     ]
    }
   ],
   "source": [
    "x_train, x_test, y_train, y_test = train_test_split(X_rd,y_rd,train_size=0.8,test_size=0.2,random_state=100)\n",
    "print(f\"X_rd_train shape {x_train.shape}\")\n",
    "print(f\"y_rd_train shape {y_train.shape}\")\n",
    "print(f\"X_rd_test shap {x_test.shape}\")\n",
    "print(f\"y_rd_test shape {y_test.shape}\")\n",
    "print(y_test)"
   ]
  },
  {
   "cell_type": "code",
   "execution_count": 91,
   "metadata": {},
   "outputs": [
    {
     "data": {
      "image/png": "[encoded data removed]",
      "text/plain": [
       "<Figure size 432x288 with 1 Axes>"
      ]
     },
     "metadata": {
      "needs_background": "light"
     },
     "output_type": "display_data"
    }
   ],
   "source": [
    "%matplotlib inline\n",
    "plt.scatter(x_train,y_train,color='orange')\n",
    "plt.xlabel('R&D S')\n",
    "plt.ylabel('Profits')\n",
    "plt.title('Startup Spending')\n",
    "plt.show()"
   ]
  },
  {
   "cell_type": "code",
   "execution_count": 92,
   "metadata": {},
   "outputs": [
    {
     "name": "stdout",
     "output_type": "stream",
     "text": [
      "Train accuracy 58.08 %\n",
      "Test accuracy 38.46 %\n"
     ]
    }
   ],
   "source": [
    "lm = LinearRegression()\n",
    "lm.fit(x_train,y_train)\n",
    "y_predict = lm.predict(x_test)\n",
    "print(f\"Train accuracy {round(lm.score(x_train,y_train)*100,2)} %\")\n",
    "print(f\"Test accuracy {round(lm.score(x_test,y_test)*100,2)} %\")"
   ]
  },
  {
   "cell_type": "markdown",
   "metadata": {},
   "source": [
    "### Conclusions\n",
    "So I went into this looking to see if there was any correlation between marketing spending and profits for startups in the given dataset. The results that came back tested really low so then I shifted my goal to seeing if startups that focused more on research and development spending, saw more or less profits than those startups that focused more on marketing spending. After going through and plotting that data as well I figured out that I must be doing something wrong because the plots look similar even though it should be different data, and the test scores are exactly the same. I'm not sure what I'm doing wrong so I'm submitting for further guidance\n"
   ]
  },
  {
   "cell_type": "code",
   "execution_count": null,
   "metadata": {},
   "outputs": [],
   "source": []
  },
  {
   "cell_type": "code",
   "execution_count": null,
   "metadata": {},
   "outputs": [],
   "source": []
  }
 ],
 "metadata": {
  "kernelspec": {
   "display_name": "Python 3",
   "language": "python",
   "name": "python3"
  },
  "language_info": {
   "codemirror_mode": {
    "name": "ipython",
    "version": 3
   },
   "file_extension": ".py",
   "mimetype": "text/x-python",
   "name": "python",
   "nbconvert_exporter": "python",
   "pygments_lexer": "ipython3",
   "version": "3.6.9"
  }
 },
 "nbformat": 4,
 "nbformat_minor": 4
}
